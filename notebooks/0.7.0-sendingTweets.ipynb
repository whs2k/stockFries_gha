{
 "cells": [
  {
   "cell_type": "code",
   "execution_count": 33,
   "id": "f2457f6e-813f-4805-83ec-8eef0c4ab101",
   "metadata": {},
   "outputs": [],
   "source": [
    "import pandas as pd\n",
    "from datetime import datetime, timedelta\n",
    "N_DAYS_AGO=100"
   ]
  },
  {
   "cell_type": "code",
   "execution_count": 238,
   "id": "dd9fbfad-f578-47ce-abf4-5fdb92ac19a6",
   "metadata": {},
   "outputs": [],
   "source": [
    "#If Df doesn't exist\n",
    "sent_tweets_db = pd.DataFrame(columns=['name','cusip','twitter','tweet_date','tweet_text'])\n",
    "sent_tweets_db.tail()\n",
    "sent_tweets_fn = 'sent_tweets_db.csv'\n",
    "sent_tweets_db.to_csv(sent_tweets_fn, index=False)"
   ]
  },
  {
   "cell_type": "code",
   "execution_count": 231,
   "id": "3cc203b6-3ecc-4423-8925-f075cb9f355f",
   "metadata": {},
   "outputs": [
    {
     "data": {
      "text/html": [
       "<div>\n",
       "<style scoped>\n",
       "    .dataframe tbody tr th:only-of-type {\n",
       "        vertical-align: middle;\n",
       "    }\n",
       "\n",
       "    .dataframe tbody tr th {\n",
       "        vertical-align: top;\n",
       "    }\n",
       "\n",
       "    .dataframe thead th {\n",
       "        text-align: right;\n",
       "    }\n",
       "</style>\n",
       "<table border=\"1\" class=\"dataframe\">\n",
       "  <thead>\n",
       "    <tr style=\"text-align: right;\">\n",
       "      <th></th>\n",
       "      <th>name</th>\n",
       "      <th>cusip</th>\n",
       "      <th>twitter</th>\n",
       "      <th>tweet_date</th>\n",
       "      <th>tweet_text</th>\n",
       "    </tr>\n",
       "  </thead>\n",
       "  <tbody>\n",
       "    <tr>\n",
       "      <th>0</th>\n",
       "      <td>INVESCO QQQ TR</td>\n",
       "      <td>46090E103</td>\n",
       "      <td>InvescoUS</td>\n",
       "      <td>2024-03-04 22:28:03.185313</td>\n",
       "      <td>Hey @InvescoUS Did you know that on 2023-12-31...</td>\n",
       "    </tr>\n",
       "  </tbody>\n",
       "</table>\n",
       "</div>"
      ],
      "text/plain": [
       "             name      cusip    twitter                 tweet_date  \\\n",
       "0  INVESCO QQQ TR  46090E103  InvescoUS 2024-03-04 22:28:03.185313   \n",
       "\n",
       "                                          tweet_text  \n",
       "0  Hey @InvescoUS Did you know that on 2023-12-31...  "
      ]
     },
     "execution_count": 231,
     "metadata": {},
     "output_type": "execute_result"
    }
   ],
   "source": [
    "fn_puts = 'puts_by_stock.csv'\n",
    "\n",
    "df_puts = pd.read_csv(fn_puts)\n",
    "\n",
    "\n",
    "fn = 'df_company_info2_backup.csv'\n",
    "df_tweet_handles = pd.read_csv(fn)\n",
    "\n",
    "#df_to_tweet = df_puts.merge(df_twit_handles, how='inner',\n",
    "#                             on = 'cusip')\n",
    "#df_final = df_to_tweet.explode('fund_name').tail()\n",
    "\n",
    "fn = 'sent_tweets_db.csv'\n",
    "df_tweet_db = pd.read_csv(fn, dtype=str)\n",
    "df_tweet_db['tweet_date'] = pd.to_datetime(df_tweet_db['tweet_date'])\n",
    "df_tweet_db.tail()"
   ]
  },
  {
   "cell_type": "code",
   "execution_count": 232,
   "id": "603823c3-78be-49de-979e-4cf74c899961",
   "metadata": {},
   "outputs": [
    {
     "name": "stdout",
     "output_type": "stream",
     "text": [
      "2023-11-25 22:52:46.244094\n"
     ]
    },
    {
     "data": {
      "text/html": [
       "<div>\n",
       "<style scoped>\n",
       "    .dataframe tbody tr th:only-of-type {\n",
       "        vertical-align: middle;\n",
       "    }\n",
       "\n",
       "    .dataframe tbody tr th {\n",
       "        vertical-align: top;\n",
       "    }\n",
       "\n",
       "    .dataframe thead th {\n",
       "        text-align: right;\n",
       "    }\n",
       "</style>\n",
       "<table border=\"1\" class=\"dataframe\">\n",
       "  <thead>\n",
       "    <tr style=\"text-align: right;\">\n",
       "      <th></th>\n",
       "      <th>nameOfIssuer</th>\n",
       "      <th>cusip</th>\n",
       "      <th>twitter</th>\n",
       "      <th>max_tweet_date</th>\n",
       "    </tr>\n",
       "  </thead>\n",
       "  <tbody>\n",
       "    <tr>\n",
       "      <th>459</th>\n",
       "      <td>WORKDAY INC</td>\n",
       "      <td>98138H101</td>\n",
       "      <td>workdaymagazine</td>\n",
       "      <td>NaT</td>\n",
       "    </tr>\n",
       "    <tr>\n",
       "      <th>460</th>\n",
       "      <td>WYNN RESORTS LTD</td>\n",
       "      <td>983134107</td>\n",
       "      <td>WynnLasVegas</td>\n",
       "      <td>NaT</td>\n",
       "    </tr>\n",
       "    <tr>\n",
       "      <th>461</th>\n",
       "      <td>ZILLOW GROUP INC</td>\n",
       "      <td>98954M101</td>\n",
       "      <td>ZillowGroup</td>\n",
       "      <td>NaT</td>\n",
       "    </tr>\n",
       "    <tr>\n",
       "      <th>462</th>\n",
       "      <td>ZILLOW GROUP INC</td>\n",
       "      <td>98954M200</td>\n",
       "      <td>ZillowGroup</td>\n",
       "      <td>NaT</td>\n",
       "    </tr>\n",
       "    <tr>\n",
       "      <th>463</th>\n",
       "      <td>ZSCALER INC</td>\n",
       "      <td>98980G102</td>\n",
       "      <td>ZscalerInc</td>\n",
       "      <td>NaT</td>\n",
       "    </tr>\n",
       "  </tbody>\n",
       "</table>\n",
       "</div>"
      ],
      "text/plain": [
       "         nameOfIssuer      cusip          twitter max_tweet_date\n",
       "459       WORKDAY INC  98138H101  workdaymagazine            NaT\n",
       "460  WYNN RESORTS LTD  983134107     WynnLasVegas            NaT\n",
       "461  ZILLOW GROUP INC  98954M101      ZillowGroup            NaT\n",
       "462  ZILLOW GROUP INC  98954M200      ZillowGroup            NaT\n",
       "463       ZSCALER INC  98980G102       ZscalerInc            NaT"
      ]
     },
     "execution_count": 232,
     "metadata": {},
     "output_type": "execute_result"
    }
   ],
   "source": [
    "#1 Create tweetable list\n",
    "df_all_twitter_stats = df_puts.merge(df_tweet_handles, how='inner',\n",
    "                                    left_on = ['nameOfIssuer', 'cusip'], right_on=['name','cusip'])\n",
    "df_all_twitter_stats = df_all_twitter_stats.merge(df_tweet_db, how='left',\n",
    "                                    on = ['name','cusip','twitter'])\n",
    "df_all_twitter_stats_g = df_all_twitter_stats.groupby(['nameOfIssuer','cusip','twitter'],as_index=False).agg({'tweet_date':'max'}).rename(columns={'tweet_date':'max_tweet_date'})\n",
    "#df_all_twitter_stats_g.tail()\n",
    "\n",
    "today = datetime.today() \n",
    "n_days_ago = today - timedelta(days=N_DAYS_AGO)\n",
    "#print(today)\n",
    "print(n_days_ago)\n",
    "df_tweet_eligible = df_all_twitter_stats_g[~(df_all_twitter_stats_g.max_tweet_date > n_days_ago)].reset_index(drop=True)\n",
    "df_tweet_eligible.tail()\n",
    "#df_tweetabl = df_all_twitter_stats_g[df_all_twitter_stats_g.max_tweet_date > \n",
    "#df_all_to_twee = df_all_twitter_stats[df_all_twitter_stats.]"
   ]
  },
  {
   "cell_type": "code",
   "execution_count": 233,
   "id": "152b9241-cf2f-4b73-92ba-aef7f90c59a8",
   "metadata": {},
   "outputs": [
    {
     "data": {
      "text/html": [
       "<div>\n",
       "<style scoped>\n",
       "    .dataframe tbody tr th:only-of-type {\n",
       "        vertical-align: middle;\n",
       "    }\n",
       "\n",
       "    .dataframe tbody tr th {\n",
       "        vertical-align: top;\n",
       "    }\n",
       "\n",
       "    .dataframe thead th {\n",
       "        text-align: right;\n",
       "    }\n",
       "</style>\n",
       "<table border=\"1\" class=\"dataframe\">\n",
       "  <thead>\n",
       "    <tr style=\"text-align: right;\">\n",
       "      <th></th>\n",
       "      <th>nameOfIssuer</th>\n",
       "      <th>nameOfIssuer_link</th>\n",
       "      <th>cusip</th>\n",
       "      <th>value</th>\n",
       "      <th>fund_name</th>\n",
       "    </tr>\n",
       "  </thead>\n",
       "  <tbody>\n",
       "    <tr>\n",
       "      <th>4104</th>\n",
       "      <td>VBI VACCINES INC CDA</td>\n",
       "      <td>&lt;a href=\"http://www.google.com/search?q=stock ...</td>\n",
       "      <td>91822J202</td>\n",
       "      <td>59</td>\n",
       "      <td>CITADEL ADVISORS LLC</td>\n",
       "    </tr>\n",
       "    <tr>\n",
       "      <th>4105</th>\n",
       "      <td>EMCORE CORP</td>\n",
       "      <td>&lt;a href=\"http://www.google.com/search?q=stock ...</td>\n",
       "      <td>290846203</td>\n",
       "      <td>49</td>\n",
       "      <td>CITADEL ADVISORS LLC</td>\n",
       "    </tr>\n",
       "    <tr>\n",
       "      <th>4106</th>\n",
       "      <td>EIGER BIOPHARMACEUTICALS INC</td>\n",
       "      <td>&lt;a href=\"http://www.google.com/search?q=stock ...</td>\n",
       "      <td>28249U105</td>\n",
       "      <td>45</td>\n",
       "      <td>CITADEL ADVISORS LLC</td>\n",
       "    </tr>\n",
       "    <tr>\n",
       "      <th>4107</th>\n",
       "      <td>AETERNA ZENTARIS INC</td>\n",
       "      <td>&lt;a href=\"http://www.google.com/search?q=stock ...</td>\n",
       "      <td>007975501</td>\n",
       "      <td>15</td>\n",
       "      <td>CITADEL ADVISORS LLC</td>\n",
       "    </tr>\n",
       "    <tr>\n",
       "      <th>4108</th>\n",
       "      <td>IBIO INC</td>\n",
       "      <td>&lt;a href=\"http://www.google.com/search?q=stock ...</td>\n",
       "      <td>451033708</td>\n",
       "      <td>14</td>\n",
       "      <td>CITADEL ADVISORS LLC</td>\n",
       "    </tr>\n",
       "  </tbody>\n",
       "</table>\n",
       "</div>"
      ],
      "text/plain": [
       "                      nameOfIssuer  \\\n",
       "4104          VBI VACCINES INC CDA   \n",
       "4105                   EMCORE CORP   \n",
       "4106  EIGER BIOPHARMACEUTICALS INC   \n",
       "4107          AETERNA ZENTARIS INC   \n",
       "4108                      IBIO INC   \n",
       "\n",
       "                                      nameOfIssuer_link      cusip  value  \\\n",
       "4104  <a href=\"http://www.google.com/search?q=stock ...  91822J202     59   \n",
       "4105  <a href=\"http://www.google.com/search?q=stock ...  290846203     49   \n",
       "4106  <a href=\"http://www.google.com/search?q=stock ...  28249U105     45   \n",
       "4107  <a href=\"http://www.google.com/search?q=stock ...  007975501     15   \n",
       "4108  <a href=\"http://www.google.com/search?q=stock ...  451033708     14   \n",
       "\n",
       "                 fund_name  \n",
       "4104  CITADEL ADVISORS LLC  \n",
       "4105  CITADEL ADVISORS LLC  \n",
       "4106  CITADEL ADVISORS LLC  \n",
       "4107  CITADEL ADVISORS LLC  \n",
       "4108  CITADEL ADVISORS LLC  "
      ]
     },
     "execution_count": 233,
     "metadata": {},
     "output_type": "execute_result"
    }
   ],
   "source": [
    "df_puts['fund_name'] = df_puts['fund_name'].str.strip('[]').str.split(',')\n",
    "\n",
    "df_puts_explode = df_puts.explode('fund_name')\n",
    "df_puts_explode['fund_name'] = df_puts_explode['fund_name'].str.strip(\"'\")\n",
    "df_puts_explode.tail()"
   ]
  },
  {
   "cell_type": "code",
   "execution_count": 234,
   "id": "d327ef8f-43ae-47a6-9332-5599aa42772a",
   "metadata": {},
   "outputs": [
    {
     "name": "stdout",
     "output_type": "stream",
     "text": [
      "NVIDIAGeForce\n",
      "{'CAPITAL FUND MANAGEMENT': 'https://www.sec.gov/Archives/edgar/data/1323645/0001323645-23-000005.txt'}\n"
     ]
    }
   ],
   "source": [
    "fn = 'data_by_stocks.csv'\n",
    "df_data_by_stocks = pd.read_csv(fn)\n",
    "df_data_by_stocks_puts = df_data_by_stocks[df_data_by_stocks.putCall == 'Put']\n",
    "\n",
    "df_final = df_tweet_eligible.merge(df_puts_explode, how = 'inner',\n",
    "        left_on = ['nameOfIssuer','cusip'],\n",
    "        right_on = ['nameOfIssuer','cusip']).merge(df_data_by_stocks_puts,\n",
    "        left_on = ['nameOfIssuer','cusip','fund_name'],\n",
    "        right_on = ['nameOfIssuer','cusip','fund_name']\n",
    "        ).drop_duplicates().reset_index(drop=True)\n",
    "df_final.sort_values('value_x',ascending=False).head().iloc[1]\n",
    "\n",
    "twitter_name = df_final.sort_values('value_x',ascending=False).head().iloc[0].twitter\n",
    "company_name = df_final[df_final.twitter == twitter_name].nameOfIssuer\n",
    "company_cusip = df_final[df_final.twitter == twitter_name].cusip\n",
    "\n",
    "print(twitter_name)\n",
    "report_date = df_final[df_final.twitter == twitter_name].reportDate.max()\n",
    "\n",
    "\n",
    "hf_link_dict = {}\n",
    "for index, row in df_final[df_final.twitter == twitter_name].iterrows():\n",
    "    #print(row)\n",
    "    hf_link_dict[row.fund_name] = row.filingLink\n",
    "print(hf_link_dict)\n"
   ]
  },
  {
   "cell_type": "code",
   "execution_count": 235,
   "id": "4b267498-f768-4d3c-8f06-deb6bf06b81b",
   "metadata": {},
   "outputs": [
    {
     "name": "stdout",
     "output_type": "stream",
     "text": [
      "Hey @NVIDIAGeForce Did you know that on 2023-12-31 the following hedge funds reported a short against you? Check these link(s): \n",
      "\n",
      "{'CAPITAL FUND MANAGEMENT': 'https://www.sec.gov/Archives/edgar/data/1323645/0001323645-23-000005.txt'}\n"
     ]
    }
   ],
   "source": [
    "tweet = '''Hey @{} Did you know that on {} the following hedge funds reported a short against you? Check these link(s): \n",
    "\n",
    "{}'''.format(twitter_name,report_date, hf_link_dict).replace(\"',\",\"\\n\")\n",
    "\n",
    "print(tweet)"
   ]
  },
  {
   "cell_type": "code",
   "execution_count": 237,
   "id": "321b0097-48a1-4576-8344-23c87cdf2fca",
   "metadata": {},
   "outputs": [
    {
     "data": {
      "text/html": [
       "<div>\n",
       "<style scoped>\n",
       "    .dataframe tbody tr th:only-of-type {\n",
       "        vertical-align: middle;\n",
       "    }\n",
       "\n",
       "    .dataframe tbody tr th {\n",
       "        vertical-align: top;\n",
       "    }\n",
       "\n",
       "    .dataframe thead th {\n",
       "        text-align: right;\n",
       "    }\n",
       "</style>\n",
       "<table border=\"1\" class=\"dataframe\">\n",
       "  <thead>\n",
       "    <tr style=\"text-align: right;\">\n",
       "      <th></th>\n",
       "      <th>name</th>\n",
       "      <th>cusip</th>\n",
       "      <th>twitter</th>\n",
       "      <th>tweet_date</th>\n",
       "      <th>tweet_text</th>\n",
       "    </tr>\n",
       "  </thead>\n",
       "  <tbody>\n",
       "    <tr>\n",
       "      <th>0</th>\n",
       "      <td>INVESCO QQQ TR</td>\n",
       "      <td>46090E103</td>\n",
       "      <td>InvescoUS</td>\n",
       "      <td>2024-03-04 22:28:03.185313</td>\n",
       "      <td>Hey @InvescoUS Did you know that on 2023-12-31...</td>\n",
       "    </tr>\n",
       "    <tr>\n",
       "      <th>1</th>\n",
       "      <td>NVIDIA CORPORATION</td>\n",
       "      <td>67066G104</td>\n",
       "      <td>NVIDIAGeForce</td>\n",
       "      <td>2024-03-04 22:52:46.244094</td>\n",
       "      <td>Hey @NVIDIAGeForce Did you know that on 2023-1...</td>\n",
       "    </tr>\n",
       "    <tr>\n",
       "      <th>2</th>\n",
       "      <td>NVIDIA CORPORATION</td>\n",
       "      <td>67066G104</td>\n",
       "      <td>NVIDIAGeForce</td>\n",
       "      <td>2024-03-04 22:52:46.244094</td>\n",
       "      <td>Hey @NVIDIAGeForce Did you know that on 2023-1...</td>\n",
       "    </tr>\n",
       "  </tbody>\n",
       "</table>\n",
       "</div>"
      ],
      "text/plain": [
       "                 name      cusip        twitter                  tweet_date  \\\n",
       "0      INVESCO QQQ TR  46090E103      InvescoUS  2024-03-04 22:28:03.185313   \n",
       "1  NVIDIA CORPORATION  67066G104  NVIDIAGeForce  2024-03-04 22:52:46.244094   \n",
       "2  NVIDIA CORPORATION  67066G104  NVIDIAGeForce  2024-03-04 22:52:46.244094   \n",
       "\n",
       "                                          tweet_text  \n",
       "0  Hey @InvescoUS Did you know that on 2023-12-31...  \n",
       "1  Hey @NVIDIAGeForce Did you know that on 2023-1...  \n",
       "2  Hey @NVIDIAGeForce Did you know that on 2023-1...  "
      ]
     },
     "execution_count": 237,
     "metadata": {},
     "output_type": "execute_result"
    }
   ],
   "source": [
    "fn = 'sent_tweets_db.csv'\n",
    "df_tweet_db = pd.read_csv(fn, dtype=str)\n",
    "df_tweet_db['cusip']=  df_tweet_db['cusip'].astype(str)  \n",
    "data_to_add = {\n",
    "    'name':company_name, \n",
    "    'cusip':company_cusip, \n",
    "    'twitter':twitter_name, \n",
    "    'tweet_date':today, \n",
    "    'tweet_text':tweet}\n",
    "df_to_add = pd.DataFrame(data_to_add).drop_duplicates().reset_index(drop=True)\n",
    "df_tweet_db =pd.concat([df_tweet_db, df_to_add]).drop_duplicates().reset_index(drop=True)\n",
    "\n",
    "fn = 'sent_tweets_db.csv'\n",
    "df_tweet_db.to_csv(fn, index=False)\n",
    "df_tweet_db.tail()"
   ]
  },
  {
   "cell_type": "code",
   "execution_count": 227,
   "id": "64363527-62a5-4271-8c50-6edf117836a3",
   "metadata": {},
   "outputs": [],
   "source": [
    "#If Df doesn't exist\n",
    "sent_tweets_db = pd.DataFrame(columns=['name','cusip','twitter','tweet_date','tweet_text'])\n",
    "sent_tweets_db.tail()\n",
    "sent_tweets_fn = 'sent_tweets_db.csv'\n",
    "sent_tweets_db.to_csv(sent_tweets_fn, index=False)"
   ]
  },
  {
   "cell_type": "code",
   "execution_count": 193,
   "id": "dd62c5b6-9979-4627-8cc2-80a5c7ae7584",
   "metadata": {},
   "outputs": [
    {
     "data": {
      "text/plain": [
       "<bound method DataFrame.info of              name          cusip    twitter                  tweet_date  \\\n",
       "0  INVESCO QQQ TR  4.609000e+107  InvescoUS  2024-03-04 22:13:08.567871   \n",
       "\n",
       "                                          tweet_text  \n",
       "0  Hey @InvescoUS Did you know that on 2023-12-31...  >"
      ]
     },
     "execution_count": 193,
     "metadata": {},
     "output_type": "execute_result"
    }
   ],
   "source": [
    "fn = 'sent_tweets_db.csv'\n",
    "df_tweet_db = pd.read_csv(fn)\n",
    "df_tweet_db.info"
   ]
  },
  {
   "cell_type": "code",
   "execution_count": null,
   "id": "bec5401a-3175-474f-8aab-fffa2f388b3b",
   "metadata": {},
   "outputs": [],
   "source": []
  }
 ],
 "metadata": {
  "kernelspec": {
   "display_name": "Python 3 (ipykernel)",
   "language": "python",
   "name": "python3"
  },
  "language_info": {
   "codemirror_mode": {
    "name": "ipython",
    "version": 3
   },
   "file_extension": ".py",
   "mimetype": "text/x-python",
   "name": "python",
   "nbconvert_exporter": "python",
   "pygments_lexer": "ipython3",
   "version": "3.10.13"
  }
 },
 "nbformat": 4,
 "nbformat_minor": 5
}
