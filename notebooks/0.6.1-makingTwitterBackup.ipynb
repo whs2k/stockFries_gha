{
 "cells": [
  {
   "cell_type": "code",
   "execution_count": 1,
   "id": "4ddd9ebc-879c-4192-9ef3-51a52d06e4c3",
   "metadata": {},
   "outputs": [],
   "source": [
    "import pandas as pd\n",
    "import datetime"
   ]
  },
  {
   "cell_type": "code",
   "execution_count": 7,
   "id": "3f4e5baa-ceba-49e6-8367-349c629f4311",
   "metadata": {
    "tags": []
   },
   "outputs": [
    {
     "name": "stdout",
     "output_type": "stream",
     "text": [
      "Index(['index', 'Unnamed: 0.10', 'Unnamed: 0.9', 'Unnamed: 0.8',\n",
      "       'Unnamed: 0.7', 'Unnamed: 0.6', 'Unnamed: 0.5', 'Unnamed: 0.4',\n",
      "       'Unnamed: 0.3', 'Unnamed: 0.2', 'Unnamed: 0.1', 'Unnamed: 0', 'name',\n",
      "       'cusip', 'twitter', 'put_value', 'hedge_funds_putting'],\n",
      "      dtype='object')\n"
     ]
    },
    {
     "data": {
      "text/html": [
       "<div>\n",
       "<style scoped>\n",
       "    .dataframe tbody tr th:only-of-type {\n",
       "        vertical-align: middle;\n",
       "    }\n",
       "\n",
       "    .dataframe tbody tr th {\n",
       "        vertical-align: top;\n",
       "    }\n",
       "\n",
       "    .dataframe thead th {\n",
       "        text-align: right;\n",
       "    }\n",
       "</style>\n",
       "<table border=\"1\" class=\"dataframe\">\n",
       "  <thead>\n",
       "    <tr style=\"text-align: right;\">\n",
       "      <th></th>\n",
       "      <th>index</th>\n",
       "      <th>name</th>\n",
       "      <th>cusip</th>\n",
       "      <th>twitter</th>\n",
       "      <th>put_value</th>\n",
       "      <th>hedge_funds_putting</th>\n",
       "    </tr>\n",
       "  </thead>\n",
       "  <tbody>\n",
       "    <tr>\n",
       "      <th>499</th>\n",
       "      <td>4</td>\n",
       "      <td>ISHARES TR</td>\n",
       "      <td>464288513</td>\n",
       "      <td>iSharesCanada</td>\n",
       "      <td>3.610629e+09</td>\n",
       "      <td>['CITADEL ADVISORS LLC', 'CITADEL ADVISORS LLC']</td>\n",
       "    </tr>\n",
       "    <tr>\n",
       "      <th>500</th>\n",
       "      <td>3</td>\n",
       "      <td>AMAZON COM INC</td>\n",
       "      <td>023135106</td>\n",
       "      <td>amazonnews</td>\n",
       "      <td>4.164578e+09</td>\n",
       "      <td>['CAPITAL FUND MANAGEMENT', 'CITADEL ADVISORS ...</td>\n",
       "    </tr>\n",
       "    <tr>\n",
       "      <th>501</th>\n",
       "      <td>2</td>\n",
       "      <td>MICROSOFT CORP</td>\n",
       "      <td>594918104</td>\n",
       "      <td>Microsoft365</td>\n",
       "      <td>5.508511e+09</td>\n",
       "      <td>['CAPITAL FUND MANAGEMENT', 'CITADEL ADVISORS ...</td>\n",
       "    </tr>\n",
       "    <tr>\n",
       "      <th>502</th>\n",
       "      <td>1</td>\n",
       "      <td>NVIDIA CORPORATION</td>\n",
       "      <td>67066G104</td>\n",
       "      <td>NVIDIAGeForce</td>\n",
       "      <td>1.033819e+10</td>\n",
       "      <td>['CAPITAL FUND MANAGEMENT', 'CITADEL ADVISORS ...</td>\n",
       "    </tr>\n",
       "    <tr>\n",
       "      <th>503</th>\n",
       "      <td>0</td>\n",
       "      <td>INVESCO QQQ TR</td>\n",
       "      <td>46090E103</td>\n",
       "      <td>InvescoUS</td>\n",
       "      <td>1.961553e+10</td>\n",
       "      <td>['CITADEL ADVISORS LLC', 'CITADEL ADVISORS LLC...</td>\n",
       "    </tr>\n",
       "  </tbody>\n",
       "</table>\n",
       "</div>"
      ],
      "text/plain": [
       "     index                name      cusip        twitter     put_value  \\\n",
       "499      4          ISHARES TR  464288513  iSharesCanada  3.610629e+09   \n",
       "500      3      AMAZON COM INC  023135106     amazonnews  4.164578e+09   \n",
       "501      2      MICROSOFT CORP  594918104   Microsoft365  5.508511e+09   \n",
       "502      1  NVIDIA CORPORATION  67066G104  NVIDIAGeForce  1.033819e+10   \n",
       "503      0      INVESCO QQQ TR  46090E103      InvescoUS  1.961553e+10   \n",
       "\n",
       "                                   hedge_funds_putting  \n",
       "499   ['CITADEL ADVISORS LLC', 'CITADEL ADVISORS LLC']  \n",
       "500  ['CAPITAL FUND MANAGEMENT', 'CITADEL ADVISORS ...  \n",
       "501  ['CAPITAL FUND MANAGEMENT', 'CITADEL ADVISORS ...  \n",
       "502  ['CAPITAL FUND MANAGEMENT', 'CITADEL ADVISORS ...  \n",
       "503  ['CITADEL ADVISORS LLC', 'CITADEL ADVISORS LLC...  "
      ]
     },
     "execution_count": 7,
     "metadata": {},
     "output_type": "execute_result"
    }
   ],
   "source": [
    "df_to_tweet = pd.read_csv('df_company_info2.csv')\n",
    "df_to_tweet['twitter'] = df_to_tweet['twitter'].astype(str)\n",
    "df_to_tweet = df_to_tweet[(df_to_tweet.put_value>0) & \n",
    "                           (~df_to_tweet.twitter.str.contains(' ')) & \n",
    "                         (~(df_to_tweet.twitter=='nan'))].reset_index()\n",
    "df_to_tweet.columns\n",
    "\n",
    "'''for column_name in df_to_tweet.columns:\n",
    "    if column_name in any(['Unamed']) :\n",
    "        drop[column_name]\n",
    "        df.drop(['''\n",
    "\n",
    "print(df_to_tweet.columns)\n",
    "bad_list_jr = ['index', 'Unnamed: 0.9', 'Unnamed: 0.8', 'Unnamed: 0.7', 'Unnamed: 0.6',\n",
    "       'Unnamed: 0.5', 'Unnamed: 0.4', 'Unnamed: 0.3', 'Unnamed: 0.2',\n",
    "       'Unnamed: 0.1', 'Unnamed: 0','Unnamed: 0.10']\n",
    "df_to_tweet.drop(bad_list_jr, axis=1, inplace=True)\n",
    "df_to_tweet.sort_values('put_value').reset_index().tail()\n",
    "\n",
    "#bad_list = ['index', 'Unnamed: 0.5', 'Unnamed: 0.4', 'Unnamed: 0.3', 'Unnamed: 0.2',\n",
    "#       'Unnamed: 0.1', 'Unnamed: 0','put_value', 'hedge_funds_putting']"
   ]
  },
  {
   "cell_type": "code",
   "execution_count": 12,
   "id": "bf6d6e67-7c29-4568-b6a5-48ab0b418c56",
   "metadata": {},
   "outputs": [
    {
     "data": {
      "text/html": [
       "<div>\n",
       "<style scoped>\n",
       "    .dataframe tbody tr th:only-of-type {\n",
       "        vertical-align: middle;\n",
       "    }\n",
       "\n",
       "    .dataframe tbody tr th {\n",
       "        vertical-align: top;\n",
       "    }\n",
       "\n",
       "    .dataframe thead th {\n",
       "        text-align: right;\n",
       "    }\n",
       "</style>\n",
       "<table border=\"1\" class=\"dataframe\">\n",
       "  <thead>\n",
       "    <tr style=\"text-align: right;\">\n",
       "      <th></th>\n",
       "      <th>name</th>\n",
       "      <th>cusip</th>\n",
       "      <th>twitter</th>\n",
       "    </tr>\n",
       "  </thead>\n",
       "  <tbody>\n",
       "    <tr>\n",
       "      <th>499</th>\n",
       "      <td>ADEIA INC</td>\n",
       "      <td>00676P107</td>\n",
       "      <td>adeia_inc</td>\n",
       "    </tr>\n",
       "    <tr>\n",
       "      <th>500</th>\n",
       "      <td>ADVERUM BIOTECHNOLOGIES INC</td>\n",
       "      <td>00773U108</td>\n",
       "      <td>adverumbio</td>\n",
       "    </tr>\n",
       "    <tr>\n",
       "      <th>501</th>\n",
       "      <td>AC IMMUNE SA</td>\n",
       "      <td>H00263105</td>\n",
       "      <td>AC_Immune_SA</td>\n",
       "    </tr>\n",
       "    <tr>\n",
       "      <th>502</th>\n",
       "      <td>AEGLEA BIOTHERAPEUTICS INC</td>\n",
       "      <td>00773J202</td>\n",
       "      <td>aegleabio</td>\n",
       "    </tr>\n",
       "    <tr>\n",
       "      <th>503</th>\n",
       "      <td>A K A BRANDS HLDG CORP</td>\n",
       "      <td>00152K101</td>\n",
       "      <td>aka_brands</td>\n",
       "    </tr>\n",
       "  </tbody>\n",
       "</table>\n",
       "</div>"
      ],
      "text/plain": [
       "                            name      cusip       twitter\n",
       "499                    ADEIA INC  00676P107     adeia_inc\n",
       "500  ADVERUM BIOTECHNOLOGIES INC  00773U108    adverumbio\n",
       "501                 AC IMMUNE SA  H00263105  AC_Immune_SA\n",
       "502   AEGLEA BIOTHERAPEUTICS INC  00773J202     aegleabio\n",
       "503       A K A BRANDS HLDG CORP  00152K101    aka_brands"
      ]
     },
     "execution_count": 12,
     "metadata": {},
     "output_type": "execute_result"
    }
   ],
   "source": [
    "#df_backup = pd.read_csv('df_company_info2_backup.csv')\n",
    "#df_backup.sort_values('twitter').reset_index().tail()\n",
    "\n",
    "#bad_list = ['put_value', 'hedge_funds_putting']\n",
    "#df_backup_new = df_to_tweet[['name','cusip','twitter']]#.drop(bad_list, axis=1)\n",
    "#df_backup_new.tail()\n",
    "#df_backup_new.to_csv('df_company_info2_backup.csv', index=False)\n",
    "#df_backup_new.tail()"
   ]
  },
  {
   "cell_type": "code",
   "execution_count": 13,
   "id": "42d49257-5eb8-4cca-86e4-b68519415aba",
   "metadata": {},
   "outputs": [
    {
     "ename": "NameError",
     "evalue": "name 'fn_puts' is not defined",
     "output_type": "error",
     "traceback": [
      "\u001b[0;31m---------------------------------------------------------------------------\u001b[0m",
      "\u001b[0;31mNameError\u001b[0m                                 Traceback (most recent call last)",
      "Cell \u001b[0;32mIn[13], line 3\u001b[0m\n\u001b[1;32m      1\u001b[0m fn \u001b[38;5;241m=\u001b[39m \u001b[38;5;124m'\u001b[39m\u001b[38;5;124mputs_by_stock.csv\u001b[39m\u001b[38;5;124m'\u001b[39m\n\u001b[0;32m----> 3\u001b[0m df_puts \u001b[38;5;241m=\u001b[39m pd\u001b[38;5;241m.\u001b[39mread_csv(\u001b[43mfn_puts\u001b[49m)\n\u001b[1;32m      5\u001b[0m fn \u001b[38;5;241m=\u001b[39m \u001b[38;5;124m'\u001b[39m\u001b[38;5;124mdf_company_info2_backup.csv\u001b[39m\u001b[38;5;124m'\u001b[39m\n\u001b[1;32m      6\u001b[0m df_twit_handles \u001b[38;5;241m=\u001b[39m pd\u001b[38;5;241m.\u001b[39mread_csv(fn)\n",
      "\u001b[0;31mNameError\u001b[0m: name 'fn_puts' is not defined"
     ]
    }
   ],
   "source": []
  },
  {
   "cell_type": "code",
   "execution_count": null,
   "id": "b5783dd2-e067-4489-ac5d-11fec0d470a3",
   "metadata": {},
   "outputs": [],
   "source": [
    "#Determine which stock to tweet at\n",
    "#Find who's put a short on them"
   ]
  },
  {
   "cell_type": "code",
   "execution_count": 14,
   "id": "34280ecc-2cea-445a-b213-a60552cd5e1f",
   "metadata": {},
   "outputs": [
    {
     "data": {
      "text/html": [
       "<div>\n",
       "<style scoped>\n",
       "    .dataframe tbody tr th:only-of-type {\n",
       "        vertical-align: middle;\n",
       "    }\n",
       "\n",
       "    .dataframe tbody tr th {\n",
       "        vertical-align: top;\n",
       "    }\n",
       "\n",
       "    .dataframe thead th {\n",
       "        text-align: right;\n",
       "    }\n",
       "</style>\n",
       "<table border=\"1\" class=\"dataframe\">\n",
       "  <thead>\n",
       "    <tr style=\"text-align: right;\">\n",
       "      <th></th>\n",
       "      <th>name</th>\n",
       "      <th>cusip</th>\n",
       "      <th>twitter</th>\n",
       "      <th>put_value</th>\n",
       "      <th>hedge_funds_putting</th>\n",
       "    </tr>\n",
       "  </thead>\n",
       "  <tbody>\n",
       "    <tr>\n",
       "      <th>0</th>\n",
       "      <td>INVESCO QQQ TR</td>\n",
       "      <td>46090E103</td>\n",
       "      <td>InvescoUS</td>\n",
       "      <td>1.961553e+10</td>\n",
       "      <td>['CITADEL ADVISORS LLC', 'CITADEL ADVISORS LLC...</td>\n",
       "    </tr>\n",
       "  </tbody>\n",
       "</table>\n",
       "</div>"
      ],
      "text/plain": [
       "             name      cusip    twitter     put_value  \\\n",
       "0  INVESCO QQQ TR  46090E103  InvescoUS  1.961553e+10   \n",
       "\n",
       "                                 hedge_funds_putting  \n",
       "0  ['CITADEL ADVISORS LLC', 'CITADEL ADVISORS LLC...  "
      ]
     },
     "execution_count": 14,
     "metadata": {},
     "output_type": "execute_result"
    }
   ],
   "source": [
    "df_to_tweet.head(1)\n",
    "stock_being_shorted_cusip = df_to_tweet"
   ]
  },
  {
   "cell_type": "code",
   "execution_count": 15,
   "id": "48d23c97-3ad3-4037-8c4c-4c6534f766f8",
   "metadata": {},
   "outputs": [],
   "source": [
    "#https://github.com/twitterdev/Twitter-API-v2-sample-code/blob/main/Manage-Tweets/create_tweet.py\n",
    "from requests_oauthlib import OAuth1Session\n",
    "import os\n",
    "import json\n",
    "\n",
    "def send_tweet(tweet_text, consumer_key_,consumer_secret_,access_token_,access_token_secret_):\n",
    "\n",
    "    # In your terminal please set your environment variables by running the following lines of code.\n",
    "    # export 'CONSUMER_KEY'='<your_consumer_key>'\n",
    "    # export 'CONSUMER_SECRET'='<your_consumer_secret>'\n",
    "\n",
    "    consumer_key = consumer_key_#os.environ.get(\"CONSUMER_KEY\")\n",
    "    consumer_secret = consumer_secret_#os.environ.get(\"CONSUMER_SECRET\")\n",
    "\n",
    "    # Be sure to add replace the text of the with the text you wish to Tweet. You can also add parameters to post polls, quote Tweets, Tweet with reply settings, and Tweet to Super Followers in addition to other features.\n",
    "    payload = {\"text\": tweet_text}\n",
    "\n",
    "    access_token = access_token_#oauth_tokens[\"oauth_token\"]\n",
    "    access_token_secret = access_token_secret#oauth_tokens[\"oauth_token_secret\"]\n",
    "    \n",
    "    # Make the request\n",
    "    oauth = OAuth1Session(\n",
    "    consumer_key,\n",
    "    client_secret=consumer_secret,\n",
    "    resource_owner_key=access_token,\n",
    "    resource_owner_secret=access_token_secret)\n",
    "    \n",
    "    # Making the request\n",
    "    response = oauth.post(\n",
    "        \"https://api.twitter.com/2/tweets\",\n",
    "        json=payload,\n",
    "    )\n",
    "\n",
    "    if response.status_code != 201:\n",
    "        raise Exception(\n",
    "            \"Request returned an error: {} {}\".format(response.status_code, response.text)\n",
    "        )\n",
    "\n",
    "    print(\"Response code: {}\".format(response.status_code))\n",
    "\n",
    "    # Saving the response as JSON\n",
    "    json_response = response.json()\n",
    "    print(json.dumps(json_response, indent=4, sort_keys=True))"
   ]
  },
  {
   "cell_type": "code",
   "execution_count": 24,
   "id": "49bfb027-fc04-4a20-811e-49ee36323905",
   "metadata": {},
   "outputs": [],
   "source": [
    "today = datetime.datetime.today().strftime('%Y-%m-%d')\n",
    "def safe_to_tweet_guardrail(df_, twitter_handle_to_test):        \n",
    "    print(df_[df_.most_recent_tweet_date = twitter_handle_to_test] - today).days\n",
    "    if days_between > 90 &:\n",
    "        return True\n",
    "    else:\n",
    "        return False"
   ]
  },
  {
   "cell_type": "code",
   "execution_count": null,
   "id": "4c244cff-88af-4130-ba8d-eedc6fe2f83c",
   "metadata": {},
   "outputs": [],
   "source": [
    "if df_.twitter_handle_to_test in df.columns:\n",
    "    print('False')\n",
    "df_to_tweet['most_recent_tweet']"
   ]
  },
  {
   "cell_type": "code",
   "execution_count": null,
   "id": "86d30f61-2c82-40f8-9558-afa8aff00f80",
   "metadata": {},
   "outputs": [],
   "source": []
  }
 ],
 "metadata": {
  "kernelspec": {
   "display_name": "Python 3 (ipykernel)",
   "language": "python",
   "name": "python3"
  },
  "language_info": {
   "codemirror_mode": {
    "name": "ipython",
    "version": 3
   },
   "file_extension": ".py",
   "mimetype": "text/x-python",
   "name": "python",
   "nbconvert_exporter": "python",
   "pygments_lexer": "ipython3",
   "version": "3.10.13"
  }
 },
 "nbformat": 4,
 "nbformat_minor": 5
}
